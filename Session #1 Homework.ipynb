{
  "nbformat": 4,
  "nbformat_minor": 0,
  "metadata": {
    "kernelspec": {
      "display_name": "Python 3",
      "language": "python",
      "name": "python3"
    },
    "language_info": {
      "codemirror_mode": {
        "name": "ipython",
        "version": 3
      },
      "file_extension": ".py",
      "mimetype": "text/x-python",
      "name": "python",
      "nbconvert_exporter": "python",
      "pygments_lexer": "ipython3",
      "version": "3.8.5"
    },
    "colab": {
      "name": "Session #1 Homework.ipynb",
      "provenance": [],
      "include_colab_link": true
    }
  },
  "cells": [
    {
      "cell_type": "markdown",
      "metadata": {
        "id": "view-in-github",
        "colab_type": "text"
      },
      "source": [
        "<a href=\"https://colab.research.google.com/github/yashaswya/zoomcamp/blob/main/Session%20%231%20Homework.ipynb\" target=\"_parent\"><img src=\"https://colab.research.google.com/assets/colab-badge.svg\" alt=\"Open In Colab\"/></a>"
      ]
    },
    {
      "cell_type": "code",
      "metadata": {
        "id": "b1aWcFR-0cmH"
      },
      "source": [
        "import numpy as np\n",
        "import pandas as pd"
      ],
      "execution_count": null,
      "outputs": []
    },
    {
      "cell_type": "markdown",
      "metadata": {
        "id": "NsmAuhye0cmQ"
      },
      "source": [
        "## Question 1"
      ]
    },
    {
      "cell_type": "code",
      "metadata": {
        "id": "h5SPjPch0cmU",
        "outputId": "56a51523-71cd-4e63-9899-7b7aa11606f3"
      },
      "source": [
        "np.__version__"
      ],
      "execution_count": null,
      "outputs": [
        {
          "data": {
            "text/plain": [
              "'1.19.2'"
            ]
          },
          "execution_count": 2,
          "metadata": {},
          "output_type": "execute_result"
        }
      ]
    },
    {
      "cell_type": "markdown",
      "metadata": {
        "id": "DBWy_i770cmX"
      },
      "source": [
        "## Question 2"
      ]
    },
    {
      "cell_type": "code",
      "metadata": {
        "id": "fcMyIKnL0cmY",
        "outputId": "13a11496-e977-4be5-d3ab-e7f4d849feab"
      },
      "source": [
        "pd.__version__"
      ],
      "execution_count": null,
      "outputs": [
        {
          "data": {
            "text/plain": [
              "'1.1.3'"
            ]
          },
          "execution_count": 3,
          "metadata": {},
          "output_type": "execute_result"
        }
      ]
    },
    {
      "cell_type": "code",
      "metadata": {
        "id": "fdCWNXWj0cmZ",
        "outputId": "6473e4ad-3dbb-4194-9222-d30dafabb915"
      },
      "source": [
        "!pip install wget"
      ],
      "execution_count": null,
      "outputs": [
        {
          "name": "stdout",
          "output_type": "stream",
          "text": [
            "Collecting wget\n",
            "  Downloading wget-3.2.zip (10 kB)\n",
            "Building wheels for collected packages: wget\n",
            "  Building wheel for wget (setup.py): started\n",
            "  Building wheel for wget (setup.py): finished with status 'done'\n",
            "  Created wheel for wget: filename=wget-3.2-py3-none-any.whl size=9686 sha256=84ec093bcbbe3b0cfce214bb0b410e7bfd00914bbfecd85d4afdba3eff3dc168\n",
            "  Stored in directory: c:\\users\\yashaswy\\appdata\\local\\pip\\cache\\wheels\\bd\\a8\\c3\\3cf2c14a1837a4e04bd98631724e81f33f462d86a1d895fae0\n",
            "Successfully built wget\n",
            "Installing collected packages: wget\n",
            "Successfully installed wget-3.2\n"
          ]
        }
      ]
    },
    {
      "cell_type": "code",
      "metadata": {
        "id": "6RlPBQLr0cmb",
        "outputId": "32e48ff8-9181-4f1c-cc86-460df5d368df"
      },
      "source": [
        "!python -m wget https://raw.githubusercontent.com/alexeygrigorev/mlbookcamp-code/master/chapter-02-car-price/data.csv"
      ],
      "execution_count": null,
      "outputs": [
        {
          "name": "stdout",
          "output_type": "stream",
          "text": [
            "\n",
            "Saved under data.csv\n"
          ]
        }
      ]
    },
    {
      "cell_type": "code",
      "metadata": {
        "id": "RtY0bs3Q0cmd",
        "outputId": "5850790f-fa02-4bf4-97b8-f35c28f48b89"
      },
      "source": [
        "df = pd.read_csv('data.csv')\n",
        "df.head()"
      ],
      "execution_count": null,
      "outputs": [
        {
          "data": {
            "text/html": [
              "<div>\n",
              "<style scoped>\n",
              "    .dataframe tbody tr th:only-of-type {\n",
              "        vertical-align: middle;\n",
              "    }\n",
              "\n",
              "    .dataframe tbody tr th {\n",
              "        vertical-align: top;\n",
              "    }\n",
              "\n",
              "    .dataframe thead th {\n",
              "        text-align: right;\n",
              "    }\n",
              "</style>\n",
              "<table border=\"1\" class=\"dataframe\">\n",
              "  <thead>\n",
              "    <tr style=\"text-align: right;\">\n",
              "      <th></th>\n",
              "      <th>Make</th>\n",
              "      <th>Model</th>\n",
              "      <th>Year</th>\n",
              "      <th>Engine Fuel Type</th>\n",
              "      <th>Engine HP</th>\n",
              "      <th>Engine Cylinders</th>\n",
              "      <th>Transmission Type</th>\n",
              "      <th>Driven_Wheels</th>\n",
              "      <th>Number of Doors</th>\n",
              "      <th>Market Category</th>\n",
              "      <th>Vehicle Size</th>\n",
              "      <th>Vehicle Style</th>\n",
              "      <th>highway MPG</th>\n",
              "      <th>city mpg</th>\n",
              "      <th>Popularity</th>\n",
              "      <th>MSRP</th>\n",
              "    </tr>\n",
              "  </thead>\n",
              "  <tbody>\n",
              "    <tr>\n",
              "      <th>0</th>\n",
              "      <td>BMW</td>\n",
              "      <td>1 Series M</td>\n",
              "      <td>2011</td>\n",
              "      <td>premium unleaded (required)</td>\n",
              "      <td>335.0</td>\n",
              "      <td>6.0</td>\n",
              "      <td>MANUAL</td>\n",
              "      <td>rear wheel drive</td>\n",
              "      <td>2.0</td>\n",
              "      <td>Factory Tuner,Luxury,High-Performance</td>\n",
              "      <td>Compact</td>\n",
              "      <td>Coupe</td>\n",
              "      <td>26</td>\n",
              "      <td>19</td>\n",
              "      <td>3916</td>\n",
              "      <td>46135</td>\n",
              "    </tr>\n",
              "    <tr>\n",
              "      <th>1</th>\n",
              "      <td>BMW</td>\n",
              "      <td>1 Series</td>\n",
              "      <td>2011</td>\n",
              "      <td>premium unleaded (required)</td>\n",
              "      <td>300.0</td>\n",
              "      <td>6.0</td>\n",
              "      <td>MANUAL</td>\n",
              "      <td>rear wheel drive</td>\n",
              "      <td>2.0</td>\n",
              "      <td>Luxury,Performance</td>\n",
              "      <td>Compact</td>\n",
              "      <td>Convertible</td>\n",
              "      <td>28</td>\n",
              "      <td>19</td>\n",
              "      <td>3916</td>\n",
              "      <td>40650</td>\n",
              "    </tr>\n",
              "    <tr>\n",
              "      <th>2</th>\n",
              "      <td>BMW</td>\n",
              "      <td>1 Series</td>\n",
              "      <td>2011</td>\n",
              "      <td>premium unleaded (required)</td>\n",
              "      <td>300.0</td>\n",
              "      <td>6.0</td>\n",
              "      <td>MANUAL</td>\n",
              "      <td>rear wheel drive</td>\n",
              "      <td>2.0</td>\n",
              "      <td>Luxury,High-Performance</td>\n",
              "      <td>Compact</td>\n",
              "      <td>Coupe</td>\n",
              "      <td>28</td>\n",
              "      <td>20</td>\n",
              "      <td>3916</td>\n",
              "      <td>36350</td>\n",
              "    </tr>\n",
              "    <tr>\n",
              "      <th>3</th>\n",
              "      <td>BMW</td>\n",
              "      <td>1 Series</td>\n",
              "      <td>2011</td>\n",
              "      <td>premium unleaded (required)</td>\n",
              "      <td>230.0</td>\n",
              "      <td>6.0</td>\n",
              "      <td>MANUAL</td>\n",
              "      <td>rear wheel drive</td>\n",
              "      <td>2.0</td>\n",
              "      <td>Luxury,Performance</td>\n",
              "      <td>Compact</td>\n",
              "      <td>Coupe</td>\n",
              "      <td>28</td>\n",
              "      <td>18</td>\n",
              "      <td>3916</td>\n",
              "      <td>29450</td>\n",
              "    </tr>\n",
              "    <tr>\n",
              "      <th>4</th>\n",
              "      <td>BMW</td>\n",
              "      <td>1 Series</td>\n",
              "      <td>2011</td>\n",
              "      <td>premium unleaded (required)</td>\n",
              "      <td>230.0</td>\n",
              "      <td>6.0</td>\n",
              "      <td>MANUAL</td>\n",
              "      <td>rear wheel drive</td>\n",
              "      <td>2.0</td>\n",
              "      <td>Luxury</td>\n",
              "      <td>Compact</td>\n",
              "      <td>Convertible</td>\n",
              "      <td>28</td>\n",
              "      <td>18</td>\n",
              "      <td>3916</td>\n",
              "      <td>34500</td>\n",
              "    </tr>\n",
              "  </tbody>\n",
              "</table>\n",
              "</div>"
            ],
            "text/plain": [
              "  Make       Model  Year             Engine Fuel Type  Engine HP  \\\n",
              "0  BMW  1 Series M  2011  premium unleaded (required)      335.0   \n",
              "1  BMW    1 Series  2011  premium unleaded (required)      300.0   \n",
              "2  BMW    1 Series  2011  premium unleaded (required)      300.0   \n",
              "3  BMW    1 Series  2011  premium unleaded (required)      230.0   \n",
              "4  BMW    1 Series  2011  premium unleaded (required)      230.0   \n",
              "\n",
              "   Engine Cylinders Transmission Type     Driven_Wheels  Number of Doors  \\\n",
              "0               6.0            MANUAL  rear wheel drive              2.0   \n",
              "1               6.0            MANUAL  rear wheel drive              2.0   \n",
              "2               6.0            MANUAL  rear wheel drive              2.0   \n",
              "3               6.0            MANUAL  rear wheel drive              2.0   \n",
              "4               6.0            MANUAL  rear wheel drive              2.0   \n",
              "\n",
              "                         Market Category Vehicle Size Vehicle Style  \\\n",
              "0  Factory Tuner,Luxury,High-Performance      Compact         Coupe   \n",
              "1                     Luxury,Performance      Compact   Convertible   \n",
              "2                Luxury,High-Performance      Compact         Coupe   \n",
              "3                     Luxury,Performance      Compact         Coupe   \n",
              "4                                 Luxury      Compact   Convertible   \n",
              "\n",
              "   highway MPG  city mpg  Popularity   MSRP  \n",
              "0           26        19        3916  46135  \n",
              "1           28        19        3916  40650  \n",
              "2           28        20        3916  36350  \n",
              "3           28        18        3916  29450  \n",
              "4           28        18        3916  34500  "
            ]
          },
          "execution_count": 9,
          "metadata": {},
          "output_type": "execute_result"
        }
      ]
    },
    {
      "cell_type": "markdown",
      "metadata": {
        "id": "ZY8k1NgB0cmf"
      },
      "source": [
        "## Question 3 "
      ]
    },
    {
      "cell_type": "code",
      "metadata": {
        "id": "QtZk8gmQ0cmh"
      },
      "source": [
        "bmw = df.groupby(['Make'])['MSRP'].mean()"
      ],
      "execution_count": null,
      "outputs": []
    },
    {
      "cell_type": "code",
      "metadata": {
        "id": "naMq8bdr0cmi",
        "outputId": "ff7c2438-8226-4891-ce9d-f3c5d006d2fc"
      },
      "source": [
        "bmw.head()"
      ],
      "execution_count": null,
      "outputs": [
        {
          "data": {
            "text/plain": [
              "Make\n",
              "Acura            34887.587302\n",
              "Alfa Romeo       61600.000000\n",
              "Aston Martin    197910.376344\n",
              "Audi             53452.112805\n",
              "BMW              61546.763473\n",
              "Name: MSRP, dtype: float64"
            ]
          },
          "execution_count": 20,
          "metadata": {},
          "output_type": "execute_result"
        }
      ]
    },
    {
      "cell_type": "markdown",
      "metadata": {
        "id": "9KkylqUI0cmj"
      },
      "source": [
        "## Question 4"
      ]
    },
    {
      "cell_type": "code",
      "metadata": {
        "id": "cV6ibZw10cmk"
      },
      "source": [
        "df_2015 = df[df['Year'] >= 2015]"
      ],
      "execution_count": null,
      "outputs": []
    },
    {
      "cell_type": "code",
      "metadata": {
        "id": "deZBDGdq0cmm",
        "outputId": "a7f8b11d-5874-41e6-edf6-a5c0fcb866f2"
      },
      "source": [
        "df_2015.isna().sum()"
      ],
      "execution_count": null,
      "outputs": [
        {
          "data": {
            "text/plain": [
              "Make                    0\n",
              "Model                   0\n",
              "Year                    0\n",
              "Engine Fuel Type        0\n",
              "Engine HP              51\n",
              "Engine Cylinders        8\n",
              "Transmission Type       0\n",
              "Driven_Wheels           0\n",
              "Number of Doors         5\n",
              "Market Category      1324\n",
              "Vehicle Size            0\n",
              "Vehicle Style           0\n",
              "highway MPG             0\n",
              "city mpg                0\n",
              "Popularity              0\n",
              "MSRP                    0\n",
              "dtype: int64"
            ]
          },
          "execution_count": 31,
          "metadata": {},
          "output_type": "execute_result"
        }
      ]
    },
    {
      "cell_type": "markdown",
      "metadata": {
        "id": "Z-Q1giJQ0cmn"
      },
      "source": [
        "## Question 5"
      ]
    },
    {
      "cell_type": "code",
      "metadata": {
        "id": "v1NTqM-l0cmo",
        "outputId": "3c15c5ed-4a30-46ca-d5ba-822501fa6134"
      },
      "source": [
        "df_2015.describe()"
      ],
      "execution_count": null,
      "outputs": [
        {
          "data": {
            "text/html": [
              "<div>\n",
              "<style scoped>\n",
              "    .dataframe tbody tr th:only-of-type {\n",
              "        vertical-align: middle;\n",
              "    }\n",
              "\n",
              "    .dataframe tbody tr th {\n",
              "        vertical-align: top;\n",
              "    }\n",
              "\n",
              "    .dataframe thead th {\n",
              "        text-align: right;\n",
              "    }\n",
              "</style>\n",
              "<table border=\"1\" class=\"dataframe\">\n",
              "  <thead>\n",
              "    <tr style=\"text-align: right;\">\n",
              "      <th></th>\n",
              "      <th>Year</th>\n",
              "      <th>Engine HP</th>\n",
              "      <th>Engine Cylinders</th>\n",
              "      <th>Number of Doors</th>\n",
              "      <th>highway MPG</th>\n",
              "      <th>city mpg</th>\n",
              "      <th>Popularity</th>\n",
              "      <th>MSRP</th>\n",
              "    </tr>\n",
              "  </thead>\n",
              "  <tbody>\n",
              "    <tr>\n",
              "      <th>count</th>\n",
              "      <td>5995.000000</td>\n",
              "      <td>5944.000000</td>\n",
              "      <td>5987.000000</td>\n",
              "      <td>5990.000000</td>\n",
              "      <td>5995.000000</td>\n",
              "      <td>5995.000000</td>\n",
              "      <td>5995.000000</td>\n",
              "      <td>5995.000000</td>\n",
              "    </tr>\n",
              "    <tr>\n",
              "      <th>mean</th>\n",
              "      <td>2015.916264</td>\n",
              "      <td>272.987719</td>\n",
              "      <td>5.437281</td>\n",
              "      <td>3.600000</td>\n",
              "      <td>28.955129</td>\n",
              "      <td>21.526105</td>\n",
              "      <td>1758.674562</td>\n",
              "      <td>45667.156464</td>\n",
              "    </tr>\n",
              "    <tr>\n",
              "      <th>std</th>\n",
              "      <td>0.795798</td>\n",
              "      <td>109.117257</td>\n",
              "      <td>1.718261</td>\n",
              "      <td>0.789774</td>\n",
              "      <td>10.088488</td>\n",
              "      <td>10.505942</td>\n",
              "      <td>1442.645543</td>\n",
              "      <td>40051.192137</td>\n",
              "    </tr>\n",
              "    <tr>\n",
              "      <th>min</th>\n",
              "      <td>2015.000000</td>\n",
              "      <td>66.000000</td>\n",
              "      <td>0.000000</td>\n",
              "      <td>2.000000</td>\n",
              "      <td>13.000000</td>\n",
              "      <td>10.000000</td>\n",
              "      <td>21.000000</td>\n",
              "      <td>11990.000000</td>\n",
              "    </tr>\n",
              "    <tr>\n",
              "      <th>25%</th>\n",
              "      <td>2015.000000</td>\n",
              "      <td>184.000000</td>\n",
              "      <td>4.000000</td>\n",
              "      <td>4.000000</td>\n",
              "      <td>24.000000</td>\n",
              "      <td>17.000000</td>\n",
              "      <td>640.000000</td>\n",
              "      <td>26910.000000</td>\n",
              "    </tr>\n",
              "    <tr>\n",
              "      <th>50%</th>\n",
              "      <td>2016.000000</td>\n",
              "      <td>270.000000</td>\n",
              "      <td>6.000000</td>\n",
              "      <td>4.000000</td>\n",
              "      <td>28.000000</td>\n",
              "      <td>20.000000</td>\n",
              "      <td>1439.000000</td>\n",
              "      <td>35845.000000</td>\n",
              "    </tr>\n",
              "    <tr>\n",
              "      <th>75%</th>\n",
              "      <td>2017.000000</td>\n",
              "      <td>325.000000</td>\n",
              "      <td>6.000000</td>\n",
              "      <td>4.000000</td>\n",
              "      <td>33.000000</td>\n",
              "      <td>24.000000</td>\n",
              "      <td>2031.000000</td>\n",
              "      <td>48105.000000</td>\n",
              "    </tr>\n",
              "    <tr>\n",
              "      <th>max</th>\n",
              "      <td>2017.000000</td>\n",
              "      <td>750.000000</td>\n",
              "      <td>12.000000</td>\n",
              "      <td>4.000000</td>\n",
              "      <td>354.000000</td>\n",
              "      <td>137.000000</td>\n",
              "      <td>5657.000000</td>\n",
              "      <td>548800.000000</td>\n",
              "    </tr>\n",
              "  </tbody>\n",
              "</table>\n",
              "</div>"
            ],
            "text/plain": [
              "              Year    Engine HP  Engine Cylinders  Number of Doors  \\\n",
              "count  5995.000000  5944.000000       5987.000000      5990.000000   \n",
              "mean   2015.916264   272.987719          5.437281         3.600000   \n",
              "std       0.795798   109.117257          1.718261         0.789774   \n",
              "min    2015.000000    66.000000          0.000000         2.000000   \n",
              "25%    2015.000000   184.000000          4.000000         4.000000   \n",
              "50%    2016.000000   270.000000          6.000000         4.000000   \n",
              "75%    2017.000000   325.000000          6.000000         4.000000   \n",
              "max    2017.000000   750.000000         12.000000         4.000000   \n",
              "\n",
              "       highway MPG     city mpg   Popularity           MSRP  \n",
              "count  5995.000000  5995.000000  5995.000000    5995.000000  \n",
              "mean     28.955129    21.526105  1758.674562   45667.156464  \n",
              "std      10.088488    10.505942  1442.645543   40051.192137  \n",
              "min      13.000000    10.000000    21.000000   11990.000000  \n",
              "25%      24.000000    17.000000   640.000000   26910.000000  \n",
              "50%      28.000000    20.000000  1439.000000   35845.000000  \n",
              "75%      33.000000    24.000000  2031.000000   48105.000000  \n",
              "max     354.000000   137.000000  5657.000000  548800.000000  "
            ]
          },
          "execution_count": 32,
          "metadata": {},
          "output_type": "execute_result"
        }
      ]
    },
    {
      "cell_type": "code",
      "metadata": {
        "id": "GwD23VoO0cmo"
      },
      "source": [
        "df_2015['Engine HP'].fillna(int(df_2015['Engine HP'].mean()), inplace=True)"
      ],
      "execution_count": null,
      "outputs": []
    },
    {
      "cell_type": "code",
      "metadata": {
        "id": "rX2wCWhO0cmp",
        "outputId": "603d1491-21fd-4d78-d349-0427a56786c4"
      },
      "source": [
        "df_2015.describe()"
      ],
      "execution_count": null,
      "outputs": [
        {
          "data": {
            "text/html": [
              "<div>\n",
              "<style scoped>\n",
              "    .dataframe tbody tr th:only-of-type {\n",
              "        vertical-align: middle;\n",
              "    }\n",
              "\n",
              "    .dataframe tbody tr th {\n",
              "        vertical-align: top;\n",
              "    }\n",
              "\n",
              "    .dataframe thead th {\n",
              "        text-align: right;\n",
              "    }\n",
              "</style>\n",
              "<table border=\"1\" class=\"dataframe\">\n",
              "  <thead>\n",
              "    <tr style=\"text-align: right;\">\n",
              "      <th></th>\n",
              "      <th>Year</th>\n",
              "      <th>Engine HP</th>\n",
              "      <th>Engine Cylinders</th>\n",
              "      <th>Number of Doors</th>\n",
              "      <th>highway MPG</th>\n",
              "      <th>city mpg</th>\n",
              "      <th>Popularity</th>\n",
              "      <th>MSRP</th>\n",
              "    </tr>\n",
              "  </thead>\n",
              "  <tbody>\n",
              "    <tr>\n",
              "      <th>count</th>\n",
              "      <td>5995.000000</td>\n",
              "      <td>5995.000000</td>\n",
              "      <td>5987.000000</td>\n",
              "      <td>5990.000000</td>\n",
              "      <td>5995.000000</td>\n",
              "      <td>5995.000000</td>\n",
              "      <td>5995.000000</td>\n",
              "      <td>5995.000000</td>\n",
              "    </tr>\n",
              "    <tr>\n",
              "      <th>mean</th>\n",
              "      <td>2015.916264</td>\n",
              "      <td>272.979316</td>\n",
              "      <td>5.437281</td>\n",
              "      <td>3.600000</td>\n",
              "      <td>28.955129</td>\n",
              "      <td>21.526105</td>\n",
              "      <td>1758.674562</td>\n",
              "      <td>45667.156464</td>\n",
              "    </tr>\n",
              "    <tr>\n",
              "      <th>std</th>\n",
              "      <td>0.795798</td>\n",
              "      <td>108.652091</td>\n",
              "      <td>1.718261</td>\n",
              "      <td>0.789774</td>\n",
              "      <td>10.088488</td>\n",
              "      <td>10.505942</td>\n",
              "      <td>1442.645543</td>\n",
              "      <td>40051.192137</td>\n",
              "    </tr>\n",
              "    <tr>\n",
              "      <th>min</th>\n",
              "      <td>2015.000000</td>\n",
              "      <td>66.000000</td>\n",
              "      <td>0.000000</td>\n",
              "      <td>2.000000</td>\n",
              "      <td>13.000000</td>\n",
              "      <td>10.000000</td>\n",
              "      <td>21.000000</td>\n",
              "      <td>11990.000000</td>\n",
              "    </tr>\n",
              "    <tr>\n",
              "      <th>25%</th>\n",
              "      <td>2015.000000</td>\n",
              "      <td>184.000000</td>\n",
              "      <td>4.000000</td>\n",
              "      <td>4.000000</td>\n",
              "      <td>24.000000</td>\n",
              "      <td>17.000000</td>\n",
              "      <td>640.000000</td>\n",
              "      <td>26910.000000</td>\n",
              "    </tr>\n",
              "    <tr>\n",
              "      <th>50%</th>\n",
              "      <td>2016.000000</td>\n",
              "      <td>270.000000</td>\n",
              "      <td>6.000000</td>\n",
              "      <td>4.000000</td>\n",
              "      <td>28.000000</td>\n",
              "      <td>20.000000</td>\n",
              "      <td>1439.000000</td>\n",
              "      <td>35845.000000</td>\n",
              "    </tr>\n",
              "    <tr>\n",
              "      <th>75%</th>\n",
              "      <td>2017.000000</td>\n",
              "      <td>325.000000</td>\n",
              "      <td>6.000000</td>\n",
              "      <td>4.000000</td>\n",
              "      <td>33.000000</td>\n",
              "      <td>24.000000</td>\n",
              "      <td>2031.000000</td>\n",
              "      <td>48105.000000</td>\n",
              "    </tr>\n",
              "    <tr>\n",
              "      <th>max</th>\n",
              "      <td>2017.000000</td>\n",
              "      <td>750.000000</td>\n",
              "      <td>12.000000</td>\n",
              "      <td>4.000000</td>\n",
              "      <td>354.000000</td>\n",
              "      <td>137.000000</td>\n",
              "      <td>5657.000000</td>\n",
              "      <td>548800.000000</td>\n",
              "    </tr>\n",
              "  </tbody>\n",
              "</table>\n",
              "</div>"
            ],
            "text/plain": [
              "              Year    Engine HP  Engine Cylinders  Number of Doors  \\\n",
              "count  5995.000000  5995.000000       5987.000000      5990.000000   \n",
              "mean   2015.916264   272.979316          5.437281         3.600000   \n",
              "std       0.795798   108.652091          1.718261         0.789774   \n",
              "min    2015.000000    66.000000          0.000000         2.000000   \n",
              "25%    2015.000000   184.000000          4.000000         4.000000   \n",
              "50%    2016.000000   270.000000          6.000000         4.000000   \n",
              "75%    2017.000000   325.000000          6.000000         4.000000   \n",
              "max    2017.000000   750.000000         12.000000         4.000000   \n",
              "\n",
              "       highway MPG     city mpg   Popularity           MSRP  \n",
              "count  5995.000000  5995.000000  5995.000000    5995.000000  \n",
              "mean     28.955129    21.526105  1758.674562   45667.156464  \n",
              "std      10.088488    10.505942  1442.645543   40051.192137  \n",
              "min      13.000000    10.000000    21.000000   11990.000000  \n",
              "25%      24.000000    17.000000   640.000000   26910.000000  \n",
              "50%      28.000000    20.000000  1439.000000   35845.000000  \n",
              "75%      33.000000    24.000000  2031.000000   48105.000000  \n",
              "max     354.000000   137.000000  5657.000000  548800.000000  "
            ]
          },
          "execution_count": 35,
          "metadata": {},
          "output_type": "execute_result"
        }
      ]
    },
    {
      "cell_type": "markdown",
      "metadata": {
        "id": "v5R6p2VN0cmq"
      },
      "source": [
        "## Question 6"
      ]
    },
    {
      "cell_type": "code",
      "metadata": {
        "id": "LUPQPM820cmr",
        "outputId": "8fe6073a-45d1-4922-ee61-4ba24b1419f4"
      },
      "source": [
        "rolls = df[df['Make']=='Rolls-Royce']\n",
        "rolls = rolls[['Engine HP', 'Engine Cylinders', 'highway MPG']]\n",
        "rolls = rolls.drop_duplicates()\n",
        "rolls"
      ],
      "execution_count": null,
      "outputs": [
        {
          "data": {
            "text/html": [
              "<div>\n",
              "<style scoped>\n",
              "    .dataframe tbody tr th:only-of-type {\n",
              "        vertical-align: middle;\n",
              "    }\n",
              "\n",
              "    .dataframe tbody tr th {\n",
              "        vertical-align: top;\n",
              "    }\n",
              "\n",
              "    .dataframe thead th {\n",
              "        text-align: right;\n",
              "    }\n",
              "</style>\n",
              "<table border=\"1\" class=\"dataframe\">\n",
              "  <thead>\n",
              "    <tr style=\"text-align: right;\">\n",
              "      <th></th>\n",
              "      <th>Engine HP</th>\n",
              "      <th>Engine Cylinders</th>\n",
              "      <th>highway MPG</th>\n",
              "    </tr>\n",
              "  </thead>\n",
              "  <tbody>\n",
              "    <tr>\n",
              "      <th>2921</th>\n",
              "      <td>325.0</td>\n",
              "      <td>8.0</td>\n",
              "      <td>15</td>\n",
              "    </tr>\n",
              "    <tr>\n",
              "      <th>3505</th>\n",
              "      <td>563.0</td>\n",
              "      <td>12.0</td>\n",
              "      <td>19</td>\n",
              "    </tr>\n",
              "    <tr>\n",
              "      <th>5275</th>\n",
              "      <td>563.0</td>\n",
              "      <td>12.0</td>\n",
              "      <td>21</td>\n",
              "    </tr>\n",
              "    <tr>\n",
              "      <th>5279</th>\n",
              "      <td>563.0</td>\n",
              "      <td>12.0</td>\n",
              "      <td>20</td>\n",
              "    </tr>\n",
              "    <tr>\n",
              "      <th>7443</th>\n",
              "      <td>322.0</td>\n",
              "      <td>12.0</td>\n",
              "      <td>15</td>\n",
              "    </tr>\n",
              "    <tr>\n",
              "      <th>7553</th>\n",
              "      <td>453.0</td>\n",
              "      <td>12.0</td>\n",
              "      <td>19</td>\n",
              "    </tr>\n",
              "    <tr>\n",
              "      <th>11448</th>\n",
              "      <td>624.0</td>\n",
              "      <td>12.0</td>\n",
              "      <td>21</td>\n",
              "    </tr>\n",
              "  </tbody>\n",
              "</table>\n",
              "</div>"
            ],
            "text/plain": [
              "       Engine HP  Engine Cylinders  highway MPG\n",
              "2921       325.0               8.0           15\n",
              "3505       563.0              12.0           19\n",
              "5275       563.0              12.0           21\n",
              "5279       563.0              12.0           20\n",
              "7443       322.0              12.0           15\n",
              "7553       453.0              12.0           19\n",
              "11448      624.0              12.0           21"
            ]
          },
          "execution_count": 41,
          "metadata": {},
          "output_type": "execute_result"
        }
      ]
    },
    {
      "cell_type": "code",
      "metadata": {
        "id": "NL7syqdS0cmt",
        "outputId": "c4afa0bb-bd87-4984-9d09-c00b49d21689"
      },
      "source": [
        "X = rolls.to_numpy()\n",
        "X"
      ],
      "execution_count": null,
      "outputs": [
        {
          "data": {
            "text/plain": [
              "array([[325.,   8.,  15.],\n",
              "       [563.,  12.,  19.],\n",
              "       [563.,  12.,  21.],\n",
              "       [563.,  12.,  20.],\n",
              "       [322.,  12.,  15.],\n",
              "       [453.,  12.,  19.],\n",
              "       [624.,  12.,  21.]])"
            ]
          },
          "execution_count": 42,
          "metadata": {},
          "output_type": "execute_result"
        }
      ]
    },
    {
      "cell_type": "code",
      "metadata": {
        "id": "dKaRloaA0cmu",
        "outputId": "748ac439-e4b2-43de-d2c4-1c9f9714daac"
      },
      "source": [
        "XT = X.T\n",
        "XT"
      ],
      "execution_count": null,
      "outputs": [
        {
          "data": {
            "text/plain": [
              "array([[325., 563., 563., 563., 322., 453., 624.],\n",
              "       [  8.,  12.,  12.,  12.,  12.,  12.,  12.],\n",
              "       [ 15.,  19.,  21.,  20.,  15.,  19.,  21.]])"
            ]
          },
          "execution_count": 43,
          "metadata": {},
          "output_type": "execute_result"
        }
      ]
    },
    {
      "cell_type": "code",
      "metadata": {
        "id": "9ljQa2gQ0cmv",
        "outputId": "250705c9-2b39-49ca-a248-1738d0b53ce5"
      },
      "source": [
        "XTX = XT.dot(X)\n",
        "XTX"
      ],
      "execution_count": null,
      "outputs": [
        {
          "data": {
            "text/plain": [
              "array([[1.754801e+06, 3.965600e+04, 6.519600e+04],\n",
              "       [3.965600e+04, 9.280000e+02, 1.500000e+03],\n",
              "       [6.519600e+04, 1.500000e+03, 2.454000e+03]])"
            ]
          },
          "execution_count": 51,
          "metadata": {},
          "output_type": "execute_result"
        }
      ]
    },
    {
      "cell_type": "code",
      "metadata": {
        "id": "ogqsCOQz0cmw",
        "outputId": "0d31f629-18e9-4e47-8728-813086a1625e"
      },
      "source": [
        "XTX_inv = np.linalg.inv(XTX)\n",
        "XTX_inv"
      ],
      "execution_count": null,
      "outputs": [
        {
          "data": {
            "text/plain": [
              "array([[ 5.17815728e-05,  9.06587044e-04, -1.92984188e-03],\n",
              "       [ 9.06587044e-04,  1.05723058e-01, -8.87084092e-02],\n",
              "       [-1.92984188e-03, -8.87084092e-02,  1.05900809e-01]])"
            ]
          },
          "execution_count": 52,
          "metadata": {},
          "output_type": "execute_result"
        }
      ]
    },
    {
      "cell_type": "code",
      "metadata": {
        "id": "ysTJxxDJ0cmw",
        "outputId": "6086a4d3-c994-4167-8ff8-b3ab759682dc"
      },
      "source": [
        "XTX_inv.sum()"
      ],
      "execution_count": null,
      "outputs": [
        {
          "data": {
            "text/plain": [
              "0.032212320677486195"
            ]
          },
          "execution_count": 55,
          "metadata": {},
          "output_type": "execute_result"
        }
      ]
    },
    {
      "cell_type": "markdown",
      "metadata": {
        "id": "8GTcDCAS0cmx"
      },
      "source": [
        "## Question 7"
      ]
    },
    {
      "cell_type": "code",
      "metadata": {
        "id": "pB6Ig0aT0cmx"
      },
      "source": [
        "y = np.array([1000, 1100, 900, 1200, 1000, 850, 1300])\n",
        "t = XTX_inv.dot(XT)"
      ],
      "execution_count": null,
      "outputs": []
    },
    {
      "cell_type": "code",
      "metadata": {
        "id": "BE-xj9j90cmy",
        "outputId": "9cfe189f-2992-4caa-b593-a3e7f1f83df7"
      },
      "source": [
        "w = t.dot(y)\n",
        "w[0]"
      ],
      "execution_count": null,
      "outputs": [
        {
          "data": {
            "text/plain": [
              "0.19989598183186175"
            ]
          },
          "execution_count": 58,
          "metadata": {},
          "output_type": "execute_result"
        }
      ]
    },
    {
      "cell_type": "code",
      "metadata": {
        "id": "bm3-h6gH0cmy"
      },
      "source": [
        ""
      ],
      "execution_count": null,
      "outputs": []
    }
  ]
}